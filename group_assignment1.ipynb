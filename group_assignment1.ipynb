{
 "cells": [
  {
   "cell_type": "code",
   "execution_count": null,
   "metadata": {},
   "outputs": [],
   "source": [
    "# This Python 3 environment comes with many helpful analytics libraries installed\n",
    "# It is defined by the kaggle/python Docker image: https://github.com/kaggle/docker-python\n",
    "\n",
    "import io # Input/Output Module\n",
    "import os # OS interfaces\n",
    "import cv2 # OpenCV package\n",
    "import numpy as np # linear algebra\n",
    "import pandas as pd # data processing, CSV file I/O (e.g. pd.read_csv)\n",
    "\n",
    "from urllib import request # module for opening HTTP requests\n",
    "from matplotlib import pyplot as plt # Plotting library\n",
    "from sklearn.decomposition import PCA\n",
    "from typing import List, Tuple\n",
    "\n",
    "from sklearn.ensemble import RandomForestClassifier\n",
    "from sklearn.tree import DecisionTreeClassifier"
   ]
  },
  {
   "cell_type": "code",
   "execution_count": null,
   "metadata": {},
   "outputs": [],
   "source": [
    "# Input data files are available in the read-only \"../input/\" directory\n",
    "\n",
    "# train = pd.read_csv(\n",
    "#     '/kaggle/input/kul-computer-vision-ga-1-2025/train_set.csv', index_col = 0)\n",
    "# train.index = train.index.rename('id')\n",
    "\n",
    "# test = pd.read_csv(\n",
    "#     '/kaggle/input/kul-computer-vision-ga-1-2025/test_set.csv', index_col = 0)\n",
    "# test.index = test.index.rename('id')\n",
    "\n",
    "train = pd.read_csv(\n",
    "    'Dataset/train_set.csv', index_col = 0)\n",
    "train.index = train.index.rename('id')\n",
    "\n",
    "test = pd.read_csv(\n",
    "    'Dataset/test_set.csv', index_col = 0)\n",
    "test.index = test.index.rename('id')\n",
    "\n",
    "# read the images as numpy arrays and store in \"img\" column\n",
    "# train['img'] = [cv2.cvtColor(np.load('/kaggle/input/kul-computer-vision-ga-1-2025/train/train_{}.npy'.format(index), allow_pickle=False), cv2.COLOR_BGR2RGB) \n",
    "#                 for index, row in train.iterrows()]\n",
    "\n",
    "# test['img'] = [cv2.cvtColor(np.load('/kaggle/input/kul-computer-vision-ga-1-2025/test/test_{}.npy'.format(index), allow_pickle=False), cv2.COLOR_BGR2RGB) \n",
    "#                 for index, row in test.iterrows()]\n",
    "  \n",
    "train['img'] = [cv2.cvtColor(np.load('Dataset/train/train_{}.npy'.format(index), allow_pickle=False), cv2.COLOR_BGR2RGB) \n",
    "                for index, row in train.iterrows()]\n",
    "\n",
    "test['img'] = [cv2.cvtColor(np.load('Dataset/test/test_{}.npy'.format(index), allow_pickle=False), cv2.COLOR_BGR2RGB) \n",
    "                for index, row in test.iterrows()]\n",
    "  \n",
    "\n",
    "train_size, test_size = len(train),len(test)\n",
    "\n",
    "\"The training set contains {} examples, the test set contains {} examples.\".format(train_size, test_size)"
   ]
  },
  {
   "cell_type": "markdown",
   "metadata": {},
   "source": [
    "*Note: this dataset is a subset of the* [*VGG face dataset*](https://www.robots.ox.ac.uk/~vgg/data/vgg_face/).\n",
    "\n",
    "## 0.2. A first look\n",
    "Let's have a look at the data columns and class distribution."
   ]
  },
  {
   "cell_type": "code",
   "execution_count": null,
   "metadata": {},
   "outputs": [],
   "source": [
    "# The training set contains an identifier, name, image information and class label\n",
    "train.head(1)"
   ]
  },
  {
   "cell_type": "code",
   "execution_count": null,
   "metadata": {},
   "outputs": [],
   "source": [
    "# The test set only contains an identifier and corresponding image information.\n",
    "\n",
    "test.head(1)"
   ]
  },
  {
   "cell_type": "code",
   "execution_count": null,
   "metadata": {},
   "outputs": [],
   "source": [
    "# The class distribution in the training set:\n",
    "train.groupby('name').agg({'img':'count', 'class': 'max'})"
   ]
  },
  {
   "cell_type": "markdown",
   "metadata": {},
   "source": [
    "Note that **Jesse is assigned the classification label 1**, and **Mila is assigned the classification label 2**. The dataset also contains 20 images of **look alikes (assigned classification label 0)** and the raw images. \n",
    "\n",
    "## 0.3. Preprocess data\n",
    "### 0.3.1 Example: HAAR face detector\n",
    "In this example we use the [HAAR feature based cascade classifiers](https://opencv-python-tutroals.readthedocs.io/en/latest/py_tutorials/py_objdetect/py_face_detection/py_face_detection.html) to detect faces, then the faces are resized so that they all have the same shape. If there are multiple faces in an image, we only take the first one. \n",
    "\n",
    "<div class=\"alert alert-block alert-info\"> <b>NOTE:</b> You can write temporary files to <code>/kaggle/temp/</code> or <code>../../tmp</code>, but they won't be saved outside of the current session\n",
    "</div>\n"
   ]
  },
  {
   "cell_type": "code",
   "execution_count": null,
   "metadata": {},
   "outputs": [],
   "source": [
    "class HAARPreprocessor():\n",
    "    \"\"\"Preprocessing pipeline built around HAAR feature based cascade classifiers. \"\"\"\n",
    "    \n",
    "    def __init__(self, path, face_size):\n",
    "        self.face_size = face_size\n",
    "        file_path = os.path.join(path, \"haarcascade_frontalface_default.xml\")\n",
    "        if not os.path.exists(file_path): \n",
    "            if not os.path.exists(path):\n",
    "                os.mkdir(path)\n",
    "            self.download_model(file_path)\n",
    "        \n",
    "        self.classifier = cv2.CascadeClassifier(file_path)\n",
    "  \n",
    "    def download_model(self, path):\n",
    "        url = \"https://raw.githubusercontent.com/opencv/opencv/master/data/\"\\\n",
    "            \"haarcascades/haarcascade_frontalface_default.xml\"\n",
    "        \n",
    "        with request.urlopen(url) as r, open(path, 'wb') as f:\n",
    "            f.write(r.read())\n",
    "            \n",
    "    def detect_faces(self, img):\n",
    "        \"\"\"Detect all faces in an image.\"\"\"\n",
    "        \n",
    "        img_gray = cv2.cvtColor(img, cv2.COLOR_BGR2GRAY)\n",
    "        return self.classifier.detectMultiScale(\n",
    "            img_gray,\n",
    "            scaleFactor=1.2,\n",
    "            minNeighbors=5,\n",
    "            minSize=(30, 30),\n",
    "            flags=cv2.CASCADE_SCALE_IMAGE\n",
    "        )\n",
    "        \n",
    "    def extract_faces(self, img):\n",
    "        \"\"\"Returns all faces (cropped) in an image.\"\"\"\n",
    "        \n",
    "        faces = self.detect_faces(img)\n",
    "\n",
    "        return [img[y:y+h, x:x+w] for (x, y, w, h) in faces]\n",
    "    \n",
    "    def preprocess(self, data_row):\n",
    "        faces = self.extract_faces(data_row['img'])\n",
    "        \n",
    "        # if no faces were found, return None\n",
    "        if len(faces) == 0:\n",
    "            nan_img = np.empty(self.face_size + (3,))\n",
    "            nan_img[:] = np.nan\n",
    "            return nan_img\n",
    "        \n",
    "        # only return the first face\n",
    "        return cv2.resize(faces[0], self.face_size, interpolation = cv2.INTER_AREA)\n",
    "            \n",
    "    def __call__(self, data):\n",
    "        return np.stack([self.preprocess(row) for _, row in data.iterrows()]).astype(int)"
   ]
  },
  {
   "cell_type": "markdown",
   "metadata": {},
   "source": [
    "**Visualise**\n",
    "\n",
    "Let's plot a few examples."
   ]
  },
  {
   "cell_type": "code",
   "execution_count": null,
   "metadata": {},
   "outputs": [],
   "source": [
    "# parameter to play with \n",
    "FACE_SIZE = (100, 100)\n",
    "\n",
    "def plot_image_sequence(data, n, imgs_per_row=7):\n",
    "    n_rows = 1 + int(n/(imgs_per_row+1))\n",
    "    n_cols = min(imgs_per_row, n)\n",
    "\n",
    "    f,ax = plt.subplots(n_rows,n_cols, figsize=(10*n_cols,10*n_rows))\n",
    "    for i in range(n):\n",
    "        if n == 1:\n",
    "            ax.imshow(data[i])\n",
    "        elif n_rows > 1:\n",
    "            ax[int(i/imgs_per_row),int(i%imgs_per_row)].imshow(data[i])\n",
    "        else:\n",
    "            ax[int(i%n)].imshow(data[i])\n",
    "    plt.show()\n",
    "\n",
    "    \n",
    "#preprocessed data \n",
    "preprocessor = HAARPreprocessor(path = '../../tmp', face_size=FACE_SIZE)\n",
    "\n",
    "train_X, train_y = preprocessor(train), train['class'].values\n",
    "test_X = preprocessor(test)\n",
    "\n"
   ]
  },
  {
   "cell_type": "code",
   "execution_count": null,
   "metadata": {},
   "outputs": [],
   "source": [
    "def show_faces(faces: List[np.array]):\n",
    "    \"\"\"\"\n",
    "    Another function for visualization.\n",
    "    \"\"\"\n",
    "    images_per_row = 5\n",
    "    num_images = len(faces)\n",
    "    num_rows = num_images // images_per_row + 1\n",
    "\n",
    "    plt.figure(figsize=(15, 3 * num_rows))\n",
    "\n",
    "    for i, img in enumerate(faces):\n",
    "        plt.subplot(num_rows, images_per_row, i + 1) \n",
    "        plt.imshow(img)\n",
    "        plt.axis('off')\n",
    "        plt.title(f\"Image {i + 1}\")\n",
    "\n",
    "    plt.tight_layout()\n",
    "    plt.show()"
   ]
  },
  {
   "cell_type": "code",
   "execution_count": null,
   "metadata": {},
   "outputs": [],
   "source": [
    "# plot faces of Michael and Sarah\n",
    "\n",
    "plot_image_sequence(train_X[train_y == 0], n=20, imgs_per_row=10)"
   ]
  },
  {
   "cell_type": "code",
   "execution_count": null,
   "metadata": {},
   "outputs": [],
   "source": [
    "# plot faces of Jesse\n",
    "\n",
    "plot_image_sequence(train_X[train_y == 1], n=30, imgs_per_row=10)"
   ]
  },
  {
   "cell_type": "code",
   "execution_count": null,
   "metadata": {},
   "outputs": [],
   "source": [
    "# plot faces of Mila\n",
    "\n",
    "plot_image_sequence(train_X[train_y == 2], n=30, imgs_per_row=10)"
   ]
  },
  {
   "cell_type": "markdown",
   "metadata": {},
   "source": [
    "## 0.4. Store Preprocessed data (optional)\n",
    "<div class=\"alert alert-block alert-info\">\n",
    "<b>NOTE:</b> You can write up to 20GB to the current directory (/kaggle/working/) that gets preserved as output when you create a version using \"Save & Run All\". Feel free to use this to store intermediary results.\n",
    "</div>"
   ]
  },
  {
   "cell_type": "code",
   "execution_count": null,
   "metadata": {},
   "outputs": [],
   "source": [
    "# save preprocessed data\n",
    "# prep_path = '/kaggle/working/prepped_data/'\n",
    "# if not os.path.exists(prep_path):\n",
    "#     os.mkdir(prep_path)\n",
    "    \n",
    "# np.save(os.path.join(prep_path, 'train_X.npy'), train_X)\n",
    "# np.save(os.path.join(prep_path, 'train_y.npy'), train_y)\n",
    "# np.save(os.path.join(prep_path, 'test_X.npy'), test_X)\n",
    "\n",
    "# load preprocessed data\n",
    "# prep_path = '/kaggle/working/prepped_data/'\n",
    "# if not os.path.exists(prep_path):\n",
    "#     os.mkdir(prep_path)\n",
    "# train_X = np.load(os.path.join(prep_path, 'train_X.npy'))\n",
    "# train_y = np.load(os.path.join(prep_path, 'train_y.npy'))\n",
    "# test_X = np.load(os.path.join(prep_path, 'test_X.npy'))"
   ]
  },
  {
   "cell_type": "markdown",
   "metadata": {},
   "source": [
    "Now we are ready to rock!"
   ]
  },
  {
   "cell_type": "markdown",
   "metadata": {},
   "source": [
    "# 1. Feature Representations\n",
    "## 1.0. Example: Identify feature extractor\n",
    "Our example feature extractor doesn't actually do anything... It just returns the input:\n",
    "$$\n",
    "\\forall x : f(x) = x.\n",
    "$$\n",
    "\n",
    "It does make for a good placeholder and baseclass ;)."
   ]
  },
  {
   "cell_type": "code",
   "execution_count": null,
   "metadata": {},
   "outputs": [],
   "source": [
    "class IdentityFeatureExtractor:\n",
    "    \"\"\"A simple function that returns the input\"\"\"\n",
    "    \n",
    "    def transform(self, X):\n",
    "        return X\n",
    "    \n",
    "    def __call__(self, X):\n",
    "        return self.transform(X)"
   ]
  },
  {
   "cell_type": "markdown",
   "metadata": {},
   "source": [
    "## 1.1. Baseline 1: HOG feature extractor/Scale Invariant Feature Transform\n",
    "..."
   ]
  },
  {
   "cell_type": "code",
   "execution_count": null,
   "metadata": {},
   "outputs": [],
   "source": [
    "class HOGFeatureExtractor(IdentityFeatureExtractor):\n",
    "    \"\"\"TODO: this feature extractor is under construction\"\"\"\n",
    "    \n",
    "    def __init__(**params):\n",
    "        self.params = params\n",
    "        \n",
    "    def transform(self, X):\n",
    "        raise NotImplmentedError"
   ]
  },
  {
   "cell_type": "markdown",
   "metadata": {},
   "source": [
    "### 1.1.1. t-SNE Plots\n",
    "..."
   ]
  },
  {
   "cell_type": "code",
   "execution_count": null,
   "metadata": {},
   "outputs": [],
   "source": []
  },
  {
   "cell_type": "markdown",
   "metadata": {},
   "source": [
    "### 1.1.2. Discussion\n",
    "..."
   ]
  },
  {
   "cell_type": "markdown",
   "metadata": {},
   "source": [
    "## 1.2. Baseline 2: PCA feature extractor\n",
    "..."
   ]
  },
  {
   "cell_type": "code",
   "execution_count": null,
   "metadata": {},
   "outputs": [],
   "source": [
    "def plot_variance_explained(faces: List[np.ndarray], whiten: bool) -> None:\n",
    "    \"\"\"\n",
    "    Plot variance - number of PCs.\n",
    "    \"\"\"\n",
    "    face_data = np.array([face.flatten() for face in faces])\n",
    "    max_components = min(face_data.shape[0], face_data.shape[1])\n",
    "    pca = PCA(n_components=max_components, whiten=whiten)\n",
    "    pca.fit(face_data)\n",
    "    cumulative_variance = np.cumsum(pca.explained_variance_ratio_)\n",
    "    \n",
    "    plt.figure(figsize=(8, 6))\n",
    "    plt.plot(np.arange(1, len(cumulative_variance) + 1), cumulative_variance, marker='o', linestyle='-')\n",
    "    plt.xlabel(\"Number of Principal Components\")\n",
    "    plt.ylabel(\"Cumulative Explained Variance\")\n",
    "    plt.title(\"Explained Variance vs. Number of Principal Components\")\n",
    "    plt.grid(True)\n",
    "    plt.show()"
   ]
  },
  {
   "cell_type": "code",
   "execution_count": null,
   "metadata": {},
   "outputs": [],
   "source": [
    "class PCAFeatureExtractor(IdentityFeatureExtractor):\n",
    "    \"\"\"TODO: this feature extractor is under construction\"\"\"\n",
    "    \n",
    "    def __init__(self, n_components: int, whiten: bool):\n",
    "        self.pca = PCA(n_components=n_components, whiten=whiten)\n",
    "        self.mean_face = None\n",
    "        self.eigenvectors = None\n",
    "\n",
    "    def fit(self, faces: List[np.array]):\n",
    "        \"\"\"\n",
    "        Performs PCA give the number of principle components.\n",
    "        \"\"\"\n",
    "        face_data = np.array([face.flatten() for face in faces])\n",
    "        self.pca.fit(face_data)\n",
    "        self.mean_face = self.pca.mean_\n",
    "        self.eigenvectors = self.pca.components_\n",
    "\n",
    "    def transform(self, faces: List[np.array]) -> List[np.array]:\n",
    "        \"\"\"\n",
    "        Transform original face images to the PCA space.\n",
    "        \"\"\"\n",
    "        face_data = np.array([face.flatten() for face in faces])\n",
    "        projections = self.pca.transform(face_data)\n",
    "        return projections\n",
    "\n",
    "    def fit_transform(self, faces: List[np.array]) -> List[np.array]:\n",
    "        \"\"\"\n",
    "        Fit PCA on the data at first then transform the faces to the PCA space.\n",
    "        \"\"\"\n",
    "        self.fit(faces)\n",
    "        projections = self.transform(faces)\n",
    "        return projections\n",
    "    \n",
    "    def inverse_transform(self, projections: np.array) -> List[np.array]:\n",
    "        \"\"\"\n",
    "        Convert projections to the original image space.\n",
    "        \"\"\"\n",
    "        reconstructed = np.dot(projections, self.eigenvectors) + self.mean_face\n",
    "        return reconstructed"
   ]
  },
  {
   "cell_type": "code",
   "execution_count": null,
   "metadata": {},
   "outputs": [],
   "source": [
    "def vectors_to_images(vectors: List[np.array], std_shape: tuple) -> List[np.array]:\n",
    "    \"\"\"\n",
    "    Change 1D vectors to 2D images for visualization.\n",
    "\n",
    "    std_shape: tuple(H, W, C)\n",
    "        Shape of the target image.\n",
    "    \"\"\"\n",
    "    images = []\n",
    "    for vector in vectors:\n",
    "        image = vector.reshape(std_shape[0], std_shape[1], std_shape[2])\n",
    "        image_shifted = image - np.min(image)\n",
    "        image_scaled = 255 * (image_shifted / np.max(image_shifted))\n",
    "        image_display = np.round(image_scaled).astype(np.uint8)\n",
    "        images.append(image_display)\n",
    "    return images"
   ]
  },
  {
   "cell_type": "code",
   "execution_count": null,
   "metadata": {},
   "outputs": [],
   "source": [
    "train_faces = train_X\n",
    "std_shape = (train_X.shape[1], train_X.shape[2])"
   ]
  },
  {
   "cell_type": "code",
   "execution_count": null,
   "metadata": {},
   "outputs": [],
   "source": [
    "plot_variance_explained(train_faces, False)"
   ]
  },
  {
   "cell_type": "code",
   "execution_count": null,
   "metadata": {},
   "outputs": [],
   "source": [
    "pca = PCAFeatureExtractor(50, False)\n",
    "projections = pca.fit_transform(train_X)\n",
    "reconstructed_vectors = pca.inverse_transform(projections)"
   ]
  },
  {
   "cell_type": "markdown",
   "metadata": {},
   "source": [
    "### 1.2.1. Eigenface Plots\n",
    "..."
   ]
  },
  {
   "cell_type": "code",
   "execution_count": null,
   "metadata": {},
   "outputs": [],
   "source": [
    "eigenfaces = vectors_to_images(pca.eigenvectors, (std_shape[0], std_shape[1], 3))\n",
    "show_faces(eigenfaces)"
   ]
  },
  {
   "cell_type": "markdown",
   "metadata": {},
   "source": [
    "### 1.2.2. Feature Space Plots\n",
    "..."
   ]
  },
  {
   "cell_type": "code",
   "execution_count": null,
   "metadata": {},
   "outputs": [],
   "source": [
    "reconstructed_faces = vectors_to_images(reconstructed_vectors, (std_shape[0], std_shape[1], 3))\n",
    "show_faces(reconstructed_faces)"
   ]
  },
  {
   "cell_type": "markdown",
   "metadata": {},
   "source": [
    "### 1.2.3. Discussion\n",
    "..."
   ]
  },
  {
   "cell_type": "markdown",
   "metadata": {},
   "source": [
    "# 2. Evaluation Metrics\n",
    "## 2.0. Example: Accuracy\n",
    "As example metric we take the accuracy. Informally, accuracy is the proportion of correct predictions over the total amount of predictions. It is used a lot in classification but it certainly has its disadvantages..."
   ]
  },
  {
   "cell_type": "code",
   "execution_count": null,
   "metadata": {},
   "outputs": [],
   "source": [
    "from sklearn.metrics import accuracy_score"
   ]
  },
  {
   "cell_type": "markdown",
   "metadata": {},
   "source": [
    "# 3. Classifiers\n",
    "## 3.0. Example: The *'not so smart'* classifier\n",
    "This random classifier is not very complicated. It makes predictions at random, based on the distribution obseved in the training set. **It thus assumes** that the class labels of the test set will be distributed similarly to the training set."
   ]
  },
  {
   "cell_type": "code",
   "execution_count": null,
   "metadata": {},
   "outputs": [],
   "source": [
    "class RandomClassificationModel:\n",
    "    \"\"\"Random classifier, draws a random sample based on class distribution observed \n",
    "    during training.\"\"\"\n",
    "    \n",
    "    def fit(self, X, y):\n",
    "        \"\"\"Adjusts the class ratio instance variable to the one observed in y. \n",
    "\n",
    "        Parameters\n",
    "        ----------\n",
    "        X : tensor\n",
    "            Training set\n",
    "        y : array\n",
    "            Training set labels\n",
    "\n",
    "        Returns\n",
    "        -------\n",
    "        self : RandomClassificationModel\n",
    "        \"\"\"\n",
    "        \n",
    "        self.classes, self.class_ratio = np.unique(y, return_counts=True)\n",
    "        self.class_ratio = self.class_ratio / self.class_ratio.sum()\n",
    "        return self\n",
    "        \n",
    "    def predict(self, X):\n",
    "        \"\"\"Samples labels for the input data. \n",
    "\n",
    "        Parameters\n",
    "        ----------\n",
    "        X : tensor\n",
    "            dataset\n",
    "            \n",
    "        Returns\n",
    "        -------\n",
    "        y_star : array\n",
    "            'Predicted' labels\n",
    "        \"\"\"\n",
    "\n",
    "        np.random.seed(0)\n",
    "        return np.random.choice(self.classes, size = X.shape[0], p=self.class_ratio)\n",
    "    \n",
    "    def __call__(self, X):\n",
    "        return self.predict(X)\n",
    "    "
   ]
  },
  {
   "cell_type": "markdown",
   "metadata": {},
   "source": [
    "## 3.1. Decision Tree"
   ]
  },
  {
   "cell_type": "code",
   "execution_count": null,
   "metadata": {},
   "outputs": [],
   "source": [
    "class DecisionTreeModel:\n",
    "    def __init__(self, max_depth: int = None, random_state: int = None):\n",
    "        \"\"\"\n",
    "        Initialization.\n",
    "        \"\"\"\n",
    "        self.max_depth = max_depth\n",
    "        self.random_state = random_state\n",
    "        self.model = DecisionTreeClassifier(max_depth=self.max_depth,\n",
    "                                            random_state=self.random_state)\n",
    "    \n",
    "    def fit(self, faces: np.array, labels: np.array):\n",
    "        \"\"\"\n",
    "        Fit the Decision Tree model.\n",
    "\n",
    "        Parameters:\n",
    "        - faces: \n",
    "            2D np.array or tensor with shape [n_samples, n_features]. Each face should be represented as a 1D vector.\n",
    "        - labels:\n",
    "            1D np.array containing the class labels.\n",
    "        \"\"\"\n",
    "        faces = np.array([face.flatten() for face in faces])\n",
    "        self.model.fit(faces, labels)\n",
    "    \n",
    "    def predict(self, faces: np.array) -> np.array:\n",
    "        \"\"\"\n",
    "        Predict class for faces using the trained Decision Tree model.\n",
    "\n",
    "        Parameters:\n",
    "        - faces:\n",
    "            2D np.array or tensor with shape [n_samples, n_features]. Each face should be represented as a 1D vector.\n",
    "\n",
    "        Returns:\n",
    "        - np.array: The predicted labels for all input faces.\n",
    "        \"\"\"\n",
    "        faces = np.array([face.flatten() for face in faces])\n",
    "        return self.model.predict(faces)"
   ]
  },
  {
   "cell_type": "markdown",
   "metadata": {},
   "source": [
    "## 3.2. Baseline 1: RandomForest"
   ]
  },
  {
   "cell_type": "code",
   "execution_count": null,
   "metadata": {},
   "outputs": [],
   "source": [
    "class RandomForestModel:\n",
    "    def __init__(self, n_estimators: int = 100, max_depth: int = None, random_state: int = None):\n",
    "        \"\"\"\n",
    "        Initialization\n",
    "        \"\"\"\n",
    "        self.n_estimators = n_estimators\n",
    "        self.max_depth = max_depth\n",
    "        self.random_state = random_state\n",
    "        self.model = RandomForestClassifier(n_estimators=self.n_estimators,\n",
    "                                            max_depth=self.max_depth,\n",
    "                                            random_state=self.random_state)\n",
    "    \n",
    "    def fit(self, faces: np.array, labels: np.array):\n",
    "        \"\"\"\n",
    "        Fit the model.\n",
    "\n",
    "        Parameters:\n",
    "        faces: \n",
    "            2d np.array or tensor with shape [n_sample, n_feature], namely each face should be\n",
    "            represented with 1D vectors\n",
    "        labels:\n",
    "            1d np.array containing labels.\n",
    "        \"\"\"\n",
    "        faces = np.array([face.flatten() for face in faces])\n",
    "        self.model.fit(faces, labels)\n",
    "    \n",
    "    def predict(self, faces: np.array) -> np.array:\n",
    "        \"\"\"\n",
    "        Predict class for faces.\n",
    "\n",
    "        Parameters:\n",
    "        faces: \n",
    "            2d np.array or tensor with shape [n_sample, n_feature], namely each face should be\n",
    "            represented with 1D vectors\n",
    "\n",
    "        Return:\n",
    "            The predicted labels of all the input faces.\n",
    "        \"\"\"\n",
    "        faces = np.array([face.flatten() for face in faces])\n",
    "        return self.model.predict(faces)"
   ]
  },
  {
   "cell_type": "markdown",
   "metadata": {},
   "source": [
    "# 4. Experiments\n",
    "<div class=\"alert alert-block alert-info\"> <b>NOTE:</b> Do <i>NOT</i> use this section to keep track of every little change you make in your code! Instead, highlight the most important findings and the major (best) pipelines that you've discovered.  \n",
    "</div>\n",
    "<br>\n",
    "\n",
    "## 4.0. Example: basic pipeline\n",
    "The basic pipeline takes any input and samples a label based on the class label distribution of the training set. As expected the performance is very poor, predicting approximately 1/4 correctly on the training set. There is a lot of room for improvement but this is left to you ;). "
   ]
  },
  {
   "cell_type": "code",
   "execution_count": null,
   "metadata": {},
   "outputs": [],
   "source": [
    "feature_extractor = IdentityFeatureExtractor() \n",
    "classifier = RandomClassificationModel()\n",
    "\n",
    "# train the model on the features\n",
    "classifier.fit(feature_extractor(train_X), train_y)\n",
    "\n",
    "# model/final pipeline\n",
    "model = lambda X: classifier(feature_extractor(X))"
   ]
  },
  {
   "cell_type": "code",
   "execution_count": null,
   "metadata": {},
   "outputs": [],
   "source": [
    "# evaluate performance of the model on the training set\n",
    "train_y_star = model(train_X)\n",
    "\n",
    "\"The performance on the training set is {:.2f}. This however, does not tell us much about the actual performance (generalisability).\".format(\n",
    "    accuracy_score(train_y, train_y_star))"
   ]
  },
  {
   "cell_type": "code",
   "execution_count": null,
   "metadata": {},
   "outputs": [],
   "source": [
    "# predict the labels for the test set \n",
    "test_y_star = model(test_X)"
   ]
  },
  {
   "cell_type": "markdown",
   "metadata": {},
   "source": [
    "## 4.1 PCA + DecisionTree"
   ]
  },
  {
   "cell_type": "code",
   "execution_count": null,
   "metadata": {},
   "outputs": [],
   "source": [
    "# Simple validation separation\n",
    "val_X = train_X[-20:]\n",
    "val_y = train_y[-20:]\n",
    "train_X_new = train_X[:-20]\n",
    "train_y_new = train_y[:-20]\n",
    "\n",
    "pca = PCAFeatureExtractor(50, False)\n",
    "projections = pca.fit_transform(train_X_new)\n",
    "cls_dt = DecisionTreeModel()\n",
    "cls_dt.fit(projections, train_y_new)\n",
    "\n",
    "val_X = pca.transform(val_X)\n",
    "predictions = cls_dt.predict(val_X)\n",
    "accuracy_score(val_y, predictions)"
   ]
  },
  {
   "cell_type": "markdown",
   "metadata": {},
   "source": [
    "## 4.2 PCA + RandomForest"
   ]
  },
  {
   "cell_type": "code",
   "execution_count": null,
   "metadata": {},
   "outputs": [],
   "source": [
    "# Simple validation separation\n",
    "val_X = train_X[-20:]\n",
    "val_y = train_y[-20:]\n",
    "train_X_new = train_X[:-20]\n",
    "train_y_new = train_y[:-20]\n",
    "\n",
    "pca = PCAFeatureExtractor(50, False)\n",
    "projections = pca.fit_transform(train_X_new)\n",
    "cls_rf = RandomForestModel()\n",
    "cls_rf.fit(projections, train_y_new)\n",
    "\n",
    "val_X = pca.transform(val_X)\n",
    "predictions = cls_rf.predict(val_X)\n",
    "accuracy_score(val_y, predictions)"
   ]
  },
  {
   "cell_type": "markdown",
   "metadata": {},
   "source": [
    "# 5. Publishing best results"
   ]
  },
  {
   "cell_type": "code",
   "execution_count": null,
   "metadata": {},
   "outputs": [],
   "source": [
    "submission = test.copy().drop('img', axis = 1)\n",
    "submission['class'] = test_y_star\n",
    "\n",
    "submission"
   ]
  },
  {
   "cell_type": "code",
   "execution_count": null,
   "metadata": {},
   "outputs": [],
   "source": [
    "submission.to_csv('submission.csv')"
   ]
  },
  {
   "cell_type": "markdown",
   "metadata": {},
   "source": [
    "# 6. Discussion\n",
    "...\n",
    "\n",
    "In summary we contributed the following: \n",
    "* \n"
   ]
  }
 ],
 "metadata": {
  "kernelspec": {
   "display_name": "ComputerVision",
   "language": "python",
   "name": "python3"
  },
  "language_info": {
   "codemirror_mode": {
    "name": "ipython",
    "version": 3
   },
   "file_extension": ".py",
   "mimetype": "text/x-python",
   "name": "python",
   "nbconvert_exporter": "python",
   "pygments_lexer": "ipython3",
   "version": "3.13.2"
  }
 },
 "nbformat": 4,
 "nbformat_minor": 2
}
