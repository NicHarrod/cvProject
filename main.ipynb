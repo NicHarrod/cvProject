{
 "cells": [
  {
   "cell_type": "code",
   "execution_count": 2,
   "metadata": {},
   "outputs": [],
   "source": [
    "import os\n",
    "import glob\n",
    "import numpy as np\n",
    "import matplotlib.pyplot as plt\n",
    "from typing import List, Tuple\n",
    "from sklearn.decomposition import PCA\n",
    "import cv2\n",
    "import preprocess\n",
    "import pca_feature\n",
    "import handcrafted_feature\n",
    "from sklearn.manifold import TSNE\n",
    "import pandas as pd\n"
   ]
  },
  {
   "cell_type": "code",
   "execution_count": null,
   "metadata": {},
   "outputs": [],
   "source": [
    "faces = preprocess.read_faces_from_folder()\n",
    "preprocess.show_faces(faces)"
   ]
  },
  {
   "cell_type": "code",
   "execution_count": null,
   "metadata": {},
   "outputs": [],
   "source": [
    "std_faces, std_shape = preprocess.normalize_size(faces)\n",
    "hog_features, hog_visual = handcrafted_feature.extract_hog_features(std_faces)\n",
    "preprocess.show_faces(hog_visual)\n",
    "print(\"Shape of HoG feature array:\", hog_features.shape)"
   ]
  },
  {
   "cell_type": "code",
   "execution_count": null,
   "metadata": {},
   "outputs": [],
   "source": [
    "keypoints_list, descriptors_list = handcrafted_feature.extract_sift_descriptors(std_faces)\n",
    "handcrafted_feature.show_sift_keypoints(std_faces, keypoints_list)"
   ]
  },
  {
   "cell_type": "code",
   "execution_count": null,
   "metadata": {},
   "outputs": [],
   "source": [
    "df = pd.read_csv(\"Dataset/train_set.csv\")\n",
    "labels = df['class'].to_numpy()\n",
    "handcrafted_feature.plot_tsne(hog_features,labels, \"t-SNE of HoG features\")\n"
   ]
  },
  {
   "cell_type": "code",
   "execution_count": null,
   "metadata": {},
   "outputs": [],
   "source": [
    "kmeans = handcrafted_feature.build_codebook(descriptors_list, n_clusters=128)\n",
    "sift_histograms = handcrafted_feature.compute_bow_histograms(descriptors_list, kmeans)\n",
    "handcrafted_feature.plot_tsne(sift_histograms, labels, \"t-SNE of SIFT features\")"
   ]
  },
  {
   "cell_type": "code",
   "execution_count": null,
   "metadata": {},
   "outputs": [],
   "source": [
    "std_faces, std_shape = preprocess.normalize_size(faces)\n",
    "pca_feature.plot_variance_explained(std_faces, False) "
   ]
  },
  {
   "cell_type": "code",
   "execution_count": null,
   "metadata": {},
   "outputs": [],
   "source": [
    "mean_face, eigenvectors, projections = pca_feature.compute_pca(std_faces, 50, False)\n",
    "eigenfaces = pca_feature.vectors_to_images(eigenvectors, (std_shape[0], std_shape[1], 3))\n",
    "preprocess.show_faces(eigenfaces)"
   ]
  },
  {
   "cell_type": "code",
   "execution_count": null,
   "metadata": {},
   "outputs": [],
   "source": [
    "reconstructed_vectors = pca_feature.faces_reconstruct(projections, eigenvectors, mean_face)\n",
    "reconstructed_faces = pca_feature.vectors_to_images(reconstructed_vectors, (std_shape[0], std_shape[1], 3))\n",
    "preprocess.show_faces(reconstructed_faces) "
   ]
  },
  {
   "cell_type": "markdown",
   "metadata": {},
   "source": [
    "# Log\n",
    "Do we need whiten?\n",
    "\n",
    "\n",
    "Use only grayscale or all of the channes?  (for this code all channes are used)\n",
    "\n",
    "\n",
    "Preprocess such as normalization against brigntness?\n",
    "\n",
    "\n",
    "Better way for rescale?\n",
    "\n",
    "\n",
    "No control of AA^T or A^TA yet, no control over SVD or EVD yet.\n",
    "\n",
    "Preprocess to crop some images to filter out noises manually?\n"
   ]
  },
  {
   "cell_type": "code",
   "execution_count": null,
   "metadata": {},
   "outputs": [],
   "source": []
  },
  {
   "cell_type": "code",
   "execution_count": null,
   "metadata": {},
   "outputs": [],
   "source": []
  },
  {
   "cell_type": "code",
   "execution_count": null,
   "metadata": {},
   "outputs": [],
   "source": []
  }
 ],
 "metadata": {
  "kernelspec": {
   "display_name": "ComputerVision",
   "language": "python",
   "name": "python3"
  },
  "language_info": {
   "codemirror_mode": {
    "name": "ipython",
    "version": 3
   },
   "file_extension": ".py",
   "mimetype": "text/x-python",
   "name": "python",
   "nbconvert_exporter": "python",
   "pygments_lexer": "ipython3",
   "version": "3.13.2"
  }
 },
 "nbformat": 4,
 "nbformat_minor": 2
}
